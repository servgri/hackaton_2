{
 "cells": [
  {
   "metadata": {
    "ExecuteTime": {
     "end_time": "2025-07-25T12:09:20.008292Z",
     "start_time": "2025-07-25T12:09:19.793718Z"
    }
   },
   "cell_type": "code",
   "source": [
    "import pandas as pd\n",
    "import numpy as np\n",
    "import requests\n",
    "from tqdm import tqdm\n",
    "import matplotlib.pyplot as plt\n",
    "from sklearn.metrics import roc_auc_score, roc_curve"
   ],
   "id": "87a6993802ebf84c",
   "outputs": [],
   "execution_count": 1
  },
  {
   "metadata": {
    "ExecuteTime": {
     "end_time": "2025-07-25T12:09:20.016525Z",
     "start_time": "2025-07-25T12:09:20.014295Z"
    }
   },
   "cell_type": "code",
   "source": [
    "# Константы\n",
    "API_URL = \"http://127.0.0.1:5000/predict\"\n",
    "TEST_DATA_PATH = \"../data/test.csv\""
   ],
   "id": "9eae56770b44ff6f",
   "outputs": [],
   "execution_count": 2
  },
  {
   "metadata": {
    "ExecuteTime": {
     "end_time": "2025-07-25T12:09:20.100373Z",
     "start_time": "2025-07-25T12:09:20.097536Z"
    }
   },
   "cell_type": "code",
   "source": [
    "def get_xysplit(data_path):\n",
    "    data = pd.read_csv(data_path)\n",
    "    X_test = data.drop(columns=[\"Unnamed: 0\", \"target\"]).replace([np.nan, np.inf, -np.inf], None)\n",
    "    y_test = data[\"target\"]\n",
    "    return X_test, y_test"
   ],
   "id": "bd99e46a2174650b",
   "outputs": [],
   "execution_count": 3
  },
  {
   "cell_type": "code",
   "id": "initial_id",
   "metadata": {
    "collapsed": true,
    "ExecuteTime": {
     "end_time": "2025-07-25T12:09:20.108882Z",
     "start_time": "2025-07-25T12:09:20.104882Z"
    }
   },
   "source": [
    "def test_api(X_test, api_url):\n",
    "    y_pred_proba = []\n",
    "\n",
    "    print(\"🚀 Отправка запросов в API...\\n\")\n",
    "    for _, row in tqdm(X_test.iterrows(), total=len(X_test), desc=\"Запросы\"):\n",
    "        json_data = row.to_dict()\n",
    "\n",
    "        try:\n",
    "            response = requests.post(api_url, json=json_data, timeout=5)\n",
    "\n",
    "            if response.status_code == 200:\n",
    "                result = response.json()\n",
    "\n",
    "                model_name = result[\"model_name\"] if \"model_name\" in result else None\n",
    "                # Проверка на ключ 'prediction'\n",
    "                if \"prediction\" in result:\n",
    "                    y_pred_proba.append(result[\"prediction\"])\n",
    "                else:\n",
    "                    print(\"Ключ 'proba' не найден в ответе, используем 0.0\")\n",
    "                    y_pred_proba.append(0.0)\n",
    "            else:\n",
    "                print(f\"Ошибка {response.status_code}: {response.text}\")\n",
    "                y_pred_proba.append(0.0)\n",
    "\n",
    "\n",
    "\n",
    "        except Exception as e:\n",
    "            print(f\"Ошибка запроса: {e}\")\n",
    "            y_pred_proba.append(0.0)\n",
    "\n",
    "    return y_pred_proba, model_name"
   ],
   "outputs": [],
   "execution_count": 4
  },
  {
   "metadata": {
    "ExecuteTime": {
     "end_time": "2025-07-25T12:09:20.115846Z",
     "start_time": "2025-07-25T12:09:20.112892Z"
    }
   },
   "cell_type": "code",
   "source": [
    "def get_rocuac(y_test, y_pred_proba):\n",
    "    auc = roc_auc_score(y_test, y_pred_proba)\n",
    "    fpr, tpr, _ = roc_curve(y_test, y_pred_proba)\n",
    "    print(f\"ROC AUC: {auc:.4f}\")\n",
    "    return auc, fpr, tpr"
   ],
   "id": "e55fe578bb68e860",
   "outputs": [],
   "execution_count": 5
  },
  {
   "metadata": {
    "ExecuteTime": {
     "end_time": "2025-07-25T12:09:20.123309Z",
     "start_time": "2025-07-25T12:09:20.120310Z"
    }
   },
   "cell_type": "code",
   "source": [
    "def get_roc_curve(y_test, y_pred_proba, model_name):\n",
    "    auc, fpr, tpr = get_rocuac(y_test, y_pred_proba)\n",
    "    get_graph(auc, tpr, fpr, model_name)"
   ],
   "id": "930f61f75eb5dc11",
   "outputs": [],
   "execution_count": 6
  },
  {
   "metadata": {
    "ExecuteTime": {
     "end_time": "2025-07-25T12:09:20.130252Z",
     "start_time": "2025-07-25T12:09:20.127792Z"
    }
   },
   "cell_type": "code",
   "source": [
    "def get_graph(auc, tpr, fpr, model_name):\n",
    "    plt.figure(figsize=(8, 6))\n",
    "    plt.plot(fpr, tpr, label=f\"ROC AUC = {auc:.4f}\", color='navy')\n",
    "    plt.plot([0, 1], [0, 1], linestyle='--', color='gray')\n",
    "    plt.xlabel(\"False Positive Rate\")\n",
    "    plt.ylabel(\"True Positive Rate\")\n",
    "    plt.title(f\"ROC AUC — API with {model_name}\")\n",
    "    plt.legend()\n",
    "    plt.grid(True)\n",
    "    plt.tight_layout()\n",
    "    plt.savefig(f\"../v1/plots/{model_name}_api_roc_auc.png\")\n",
    "    plt.show()"
   ],
   "id": "c125c764f41962d9",
   "outputs": [],
   "execution_count": 7
  },
  {
   "metadata": {
    "ExecuteTime": {
     "end_time": "2025-07-25T12:09:20.138566Z",
     "start_time": "2025-07-25T12:09:20.133562Z"
    }
   },
   "cell_type": "code",
   "source": [
    "def start_test(data_path=TEST_DATA_PATH, api_url=API_URL, n_rows='all'):\n",
    "    X_test, y_test = get_xysplit(data_path)\n",
    "\n",
    "    if n_rows == 'all':\n",
    "        n_rows = len(y_test)\n",
    "    elif isinstance(n_rows, int) and n_rows > len(y_test):\n",
    "        n_rows = len(y_test)\n",
    "\n",
    "    X_sample = X_test.iloc[:n_rows]\n",
    "    y_sample = y_test.iloc[:n_rows]\n",
    "\n",
    "    y_pred_proba, model_name = test_api(X_sample, api_url)\n",
    "\n",
    "    return y_sample, y_pred_proba, model_name"
   ],
   "id": "83c12ddf621e18c6",
   "outputs": [],
   "execution_count": 8
  },
  {
   "metadata": {
    "ExecuteTime": {
     "end_time": "2025-07-25T12:09:43.587502Z",
     "start_time": "2025-07-25T12:09:20.141974Z"
    }
   },
   "cell_type": "code",
   "source": "y_test, y_pred_proba, model_name = start_test(n_rows=1000)",
   "id": "12a69bfca583f108",
   "outputs": [
    {
     "name": "stdout",
     "output_type": "stream",
     "text": [
      "🚀 Отправка запросов в API...\n",
      "\n"
     ]
    },
    {
     "name": "stderr",
     "output_type": "stream",
     "text": [
      "Запросы: 100%|██████████| 1000/1000 [00:22<00:00, 43.58it/s]\n"
     ]
    }
   ],
   "execution_count": 9
  },
  {
   "metadata": {
    "ExecuteTime": {
     "end_time": "2025-07-25T12:09:43.747841Z",
     "start_time": "2025-07-25T12:09:43.595896Z"
    }
   },
   "cell_type": "code",
   "source": "get_roc_curve(y_test, y_pred_proba, model_name)",
   "id": "1574e3e44aa144af",
   "outputs": [
    {
     "name": "stdout",
     "output_type": "stream",
     "text": [
      "ROC AUC: 0.7885\n"
     ]
    },
    {
     "data": {
      "text/plain": [
       "<Figure size 800x600 with 1 Axes>"
      ],
      "image/png": "[encoded data removed]"
     },
     "metadata": {},
     "output_type": "display_data"
    }
   ],
   "execution_count": 10
  }
 ],
 "metadata": {
  "kernelspec": {
   "display_name": "Python 3",
   "language": "python",
   "name": "python3"
  },
  "language_info": {
   "codemirror_mode": {
    "name": "ipython",
    "version": 2
   },
   "file_extension": ".py",
   "mimetype": "text/x-python",
   "name": "python",
   "nbconvert_exporter": "python",
   "pygments_lexer": "ipython2",
   "version": "2.7.6"
  }
 },
 "nbformat": 4,
 "nbformat_minor": 5
}
